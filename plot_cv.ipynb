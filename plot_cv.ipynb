{
 "cells": [
  {
   "cell_type": "code",
   "execution_count": null,
   "metadata": {},
   "outputs": [],
   "source": [
    "import pandas as pd\n",
    "import pickle\n",
    "# from pathlib import Path\n",
    "import plotly.express as px\n",
    "import plotly.graph_objects as go"
   ]
  },
  {
   "cell_type": "code",
   "execution_count": null,
   "metadata": {},
   "outputs": [],
   "source": [
    "a_file = open(\"results.pkl\", \"rb\")\n",
    "results = pickle.load(a_file)\n",
    "results"
   ]
  },
  {
   "cell_type": "code",
   "execution_count": null,
   "metadata": {},
   "outputs": [],
   "source": [
    "train_acc = [results[i][\"train_acc\"] for i in results]\n",
    "train_loss = [results[i][\"train_loss\"] for i in results]\n",
    "val_acc = [results[i][\"val_acc\"] for i in results]\n",
    "val_loss = [results[i][\"val_loss\"] for i in results]\n",
    "test_acc = [results[i][\"test_acc\"] for i in results]\n",
    "test_loss = [results[i][\"test_loss\"] for i in results]"
   ]
  },
  {
   "cell_type": "code",
   "execution_count": null,
   "metadata": {},
   "outputs": [],
   "source": [
    "df = pd.DataFrame(\n",
    "    columns=[\n",
    "        \"split\",\n",
    "        \"train_acc\",\n",
    "        \"train_loss\",\n",
    "        \"val_acc\",\n",
    "        \"val_loss\",\n",
    "        \"test_acc\",\n",
    "        \"test_loss\",\n",
    "        \"epoch\",\n",
    "    ]\n",
    ")\n",
    "for split in results:\n",
    "    for epoch in range(len(train_acc[split])):\n",
    "        df = df.append(\n",
    "            {\n",
    "                \"split\": split,\n",
    "                \"train_acc\": train_acc[split][epoch],\n",
    "                \"train_loss\": train_loss[split][epoch],\n",
    "                \"val_acc\": val_acc[split][epoch],\n",
    "                \"val_loss\": val_loss[split][epoch],\n",
    "                \"test_acc\": test_acc[split][epoch],\n",
    "                \"test_loss\": test_loss[split][epoch],\n",
    "                \"epoch\": epoch+1,\n",
    "            },\n",
    "            ignore_index=True,\n",
    "        )\n",
    "    # break\n",
    "display(df)\n"
   ]
  },
  {
   "cell_type": "code",
   "execution_count": null,
   "metadata": {},
   "outputs": [],
   "source": [
    "for i in df.columns[1:-1]:\n",
    "    fig = px.line(df, x='epoch', y=i, color='split', markers=True)\n",
    "    fig.show()"
   ]
  },
  {
   "cell_type": "code",
   "execution_count": null,
   "metadata": {},
   "outputs": [],
   "source": []
  }
 ],
 "metadata": {
  "interpreter": {
   "hash": "78529ff005b2955a7f084f720537a47ab243e8d5746d8af954335b872401c5bf"
  },
  "kernelspec": {
   "display_name": "Python 3.8.12 64-bit ('torch': conda)",
   "language": "python",
   "name": "python3"
  },
  "language_info": {
   "codemirror_mode": {
    "name": "ipython",
    "version": 3
   },
   "file_extension": ".py",
   "mimetype": "text/x-python",
   "name": "python",
   "nbconvert_exporter": "python",
   "pygments_lexer": "ipython3",
   "version": "3.8.12"
  },
  "orig_nbformat": 4
 },
 "nbformat": 4,
 "nbformat_minor": 2
}
